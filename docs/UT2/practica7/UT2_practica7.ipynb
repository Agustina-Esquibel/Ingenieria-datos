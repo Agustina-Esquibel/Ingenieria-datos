{
  "nbformat": 4,
  "nbformat_minor": 0,
  "metadata": {
    "colab": {
      "provenance": []
    },
    "kernelspec": {
      "name": "python3",
      "display_name": "Python 3"
    },
    "language_info": {
      "name": "python"
    }
  },
  "cells": [
    {
      "cell_type": "markdown",
      "source": [
        "##⚙️ Setup del Entorno Completo"
      ],
      "metadata": {
        "id": "h0IIs4fqBg09"
      }
    },
    {
      "cell_type": "code",
      "source": [
        "!pip install fairlearn"
      ],
      "metadata": {
        "colab": {
          "base_uri": "https://localhost:8080/"
        },
        "id": "o_HxoKWCAUZC",
        "outputId": "6a914c12-f4e5-4f93-9563-62cb2853a914"
      },
      "execution_count": 1,
      "outputs": [
        {
          "output_type": "stream",
          "name": "stdout",
          "text": [
            "Collecting fairlearn\n",
            "  Downloading fairlearn-0.12.0-py3-none-any.whl.metadata (7.0 kB)\n",
            "Requirement already satisfied: numpy>=1.24.4 in /usr/local/lib/python3.12/dist-packages (from fairlearn) (2.0.2)\n",
            "Requirement already satisfied: pandas>=2.0.3 in /usr/local/lib/python3.12/dist-packages (from fairlearn) (2.2.2)\n",
            "Requirement already satisfied: scikit-learn>=1.2.1 in /usr/local/lib/python3.12/dist-packages (from fairlearn) (1.6.1)\n",
            "Requirement already satisfied: scipy>=1.9.3 in /usr/local/lib/python3.12/dist-packages (from fairlearn) (1.16.2)\n",
            "Requirement already satisfied: python-dateutil>=2.8.2 in /usr/local/lib/python3.12/dist-packages (from pandas>=2.0.3->fairlearn) (2.9.0.post0)\n",
            "Requirement already satisfied: pytz>=2020.1 in /usr/local/lib/python3.12/dist-packages (from pandas>=2.0.3->fairlearn) (2025.2)\n",
            "Requirement already satisfied: tzdata>=2022.7 in /usr/local/lib/python3.12/dist-packages (from pandas>=2.0.3->fairlearn) (2025.2)\n",
            "Requirement already satisfied: joblib>=1.2.0 in /usr/local/lib/python3.12/dist-packages (from scikit-learn>=1.2.1->fairlearn) (1.5.2)\n",
            "Requirement already satisfied: threadpoolctl>=3.1.0 in /usr/local/lib/python3.12/dist-packages (from scikit-learn>=1.2.1->fairlearn) (3.6.0)\n",
            "Requirement already satisfied: six>=1.5 in /usr/local/lib/python3.12/dist-packages (from python-dateutil>=2.8.2->pandas>=2.0.3->fairlearn) (1.17.0)\n",
            "Downloading fairlearn-0.12.0-py3-none-any.whl (240 kB)\n",
            "\u001b[?25l   \u001b[90m━━━━━━━━━━━━━━━━━━━━━━━━━━━━━━━━━━━━━━━━\u001b[0m \u001b[32m0.0/240.0 kB\u001b[0m \u001b[31m?\u001b[0m eta \u001b[36m-:--:--\u001b[0m\r\u001b[2K   \u001b[91m━━━━━━━━━━━━━━━━━━━━━━━━━━━━━━━━━━━━━━━\u001b[0m\u001b[90m╺\u001b[0m \u001b[32m235.5/240.0 kB\u001b[0m \u001b[31m8.4 MB/s\u001b[0m eta \u001b[36m0:00:01\u001b[0m\r\u001b[2K   \u001b[90m━━━━━━━━━━━━━━━━━━━━━━━━━━━━━━━━━━━━━━━━\u001b[0m \u001b[32m240.0/240.0 kB\u001b[0m \u001b[31m5.6 MB/s\u001b[0m eta \u001b[36m0:00:00\u001b[0m\n",
            "\u001b[?25hInstalling collected packages: fairlearn\n",
            "Successfully installed fairlearn-0.12.0\n"
          ]
        }
      ]
    },
    {
      "cell_type": "code",
      "source": [
        "import pandas as pd\n",
        "import numpy as np\n",
        "import matplotlib.pyplot as plt\n",
        "import seaborn as sns\n",
        "\n",
        "# Scikit-learn\n",
        "from sklearn.linear_model import LinearRegression\n",
        "from sklearn.ensemble import RandomForestClassifier\n",
        "from sklearn.model_selection import train_test_split\n",
        "from sklearn.metrics import accuracy_score, r2_score, mean_squared_error\n",
        "\n",
        "# Fairlearn - La estrella del show\n",
        "from fairlearn.metrics import (\n",
        "    MetricFrame,\n",
        "    demographic_parity_difference,\n",
        "    equalized_odds_difference,\n",
        "    selection_rate\n",
        ")\n",
        "from fairlearn.reductions import ExponentiatedGradient, DemographicParity\n",
        "\n",
        "import warnings\n",
        "warnings.filterwarnings('ignore')\n",
        "\n",
        "plt.style.use('seaborn-v0_8')\n",
        "sns.set_palette(\"husl\")\n",
        "np.random.seed(42)\n",
        "\n",
        "print(\"⚖️ PRÁCTICA 7: Detectar y Corregir Sesgo con Fairlearn\")\n",
        "print(\"📊 Parte I: Boston Housing (sesgo racial histórico)\")\n",
        "print(\"🚢 Parte II: Titanic (sesgo género + clase)\")\n",
        "print(\"🔧 Parte III: Pipeline automático producción\")"
      ],
      "metadata": {
        "colab": {
          "base_uri": "https://localhost:8080/"
        },
        "id": "2la7buaUAYRR",
        "outputId": "c47445d1-3e00-4e12-d1df-4b88366d735a"
      },
      "execution_count": 2,
      "outputs": [
        {
          "output_type": "stream",
          "name": "stdout",
          "text": [
            "⚖️ PRÁCTICA 7: Detectar y Corregir Sesgo con Fairlearn\n",
            "📊 Parte I: Boston Housing (sesgo racial histórico)\n",
            "🚢 Parte II: Titanic (sesgo género + clase)\n",
            "🔧 Parte III: Pipeline automático producción\n"
          ]
        }
      ]
    },
    {
      "cell_type": "markdown",
      "source": [
        "##📊 PARTE I - BOSTON HOUSING: SESGO RACIAL HISTÓRICO"
      ],
      "metadata": {
        "id": "0VGMvxLTBotn"
      }
    },
    {
      "cell_type": "markdown",
      "source": [
        "##🔄 Paso 1: Cargar Boston desde Fuente Original"
      ],
      "metadata": {
        "id": "TdFfEpilBqnn"
      }
    },
    {
      "cell_type": "code",
      "source": [
        "# === PASO 1: Cargar Boston desde la fuente original (CMU) ===\n",
        "import numpy as np\n",
        "import pandas as pd\n",
        "\n",
        "data_url = \"http://lib.stat.cmu.edu/datasets/boston\"\n",
        "\n",
        "# El archivo tiene un formato \"especial\": cada observación se reparte en 2 filas\n",
        "raw_df = pd.read_csv(data_url, sep=r\"\\s+\", skiprows=22, header=None)\n",
        "\n",
        "# Reconstruir matriz de features (13 columnas) y el target (MEDV)\n",
        "X_matrix = np.hstack([raw_df.values[::2, :], raw_df.values[1::2, :2]])\n",
        "y_vector = raw_df.values[1::2, 2]\n",
        "\n",
        "feature_names = [\n",
        "    \"CRIM\",\"ZN\",\"INDUS\",\"CHAS\",\"NOX\",\"RM\",\"AGE\",\"DIS\",\"RAD\",\n",
        "    \"TAX\",\"PTRATIO\",\"B\",\"LSTAT\"\n",
        "]\n",
        "\n",
        "boston_df = pd.DataFrame(X_matrix, columns=feature_names)\n",
        "boston_df[\"MEDV\"] = y_vector\n",
        "\n",
        "print(\"✅ Boston Housing cargado\")\n",
        "print(\"Forma:\", boston_df.shape)\n",
        "print(\"Columnas:\", list(boston_df.columns))\n",
        "boston_df.head()"
      ],
      "metadata": {
        "colab": {
          "base_uri": "https://localhost:8080/",
          "height": 278
        },
        "id": "ZQkd_2xbBD9N",
        "outputId": "3bff6b31-735f-4969-c42a-aaa325474a4e"
      },
      "execution_count": 4,
      "outputs": [
        {
          "output_type": "stream",
          "name": "stdout",
          "text": [
            "✅ Boston Housing cargado\n",
            "Forma: (506, 14)\n",
            "Columnas: ['CRIM', 'ZN', 'INDUS', 'CHAS', 'NOX', 'RM', 'AGE', 'DIS', 'RAD', 'TAX', 'PTRATIO', 'B', 'LSTAT', 'MEDV']\n"
          ]
        },
        {
          "output_type": "execute_result",
          "data": {
            "text/plain": [
              "      CRIM    ZN  INDUS  CHAS    NOX     RM   AGE     DIS  RAD    TAX  \\\n",
              "0  0.00632  18.0   2.31   0.0  0.538  6.575  65.2  4.0900  1.0  296.0   \n",
              "1  0.02731   0.0   7.07   0.0  0.469  6.421  78.9  4.9671  2.0  242.0   \n",
              "2  0.02729   0.0   7.07   0.0  0.469  7.185  61.1  4.9671  2.0  242.0   \n",
              "3  0.03237   0.0   2.18   0.0  0.458  6.998  45.8  6.0622  3.0  222.0   \n",
              "4  0.06905   0.0   2.18   0.0  0.458  7.147  54.2  6.0622  3.0  222.0   \n",
              "\n",
              "   PTRATIO       B  LSTAT  MEDV  \n",
              "0     15.3  396.90   4.98  24.0  \n",
              "1     17.8  396.90   9.14  21.6  \n",
              "2     17.8  392.83   4.03  34.7  \n",
              "3     18.7  394.63   2.94  33.4  \n",
              "4     18.7  396.90   5.33  36.2  "
            ],
            "text/html": [
              "\n",
              "  <div id=\"df-e575831a-b105-45ca-9749-4f86701202cc\" class=\"colab-df-container\">\n",
              "    <div>\n",
              "<style scoped>\n",
              "    .dataframe tbody tr th:only-of-type {\n",
              "        vertical-align: middle;\n",
              "    }\n",
              "\n",
              "    .dataframe tbody tr th {\n",
              "        vertical-align: top;\n",
              "    }\n",
              "\n",
              "    .dataframe thead th {\n",
              "        text-align: right;\n",
              "    }\n",
              "</style>\n",
              "<table border=\"1\" class=\"dataframe\">\n",
              "  <thead>\n",
              "    <tr style=\"text-align: right;\">\n",
              "      <th></th>\n",
              "      <th>CRIM</th>\n",
              "      <th>ZN</th>\n",
              "      <th>INDUS</th>\n",
              "      <th>CHAS</th>\n",
              "      <th>NOX</th>\n",
              "      <th>RM</th>\n",
              "      <th>AGE</th>\n",
              "      <th>DIS</th>\n",
              "      <th>RAD</th>\n",
              "      <th>TAX</th>\n",
              "      <th>PTRATIO</th>\n",
              "      <th>B</th>\n",
              "      <th>LSTAT</th>\n",
              "      <th>MEDV</th>\n",
              "    </tr>\n",
              "  </thead>\n",
              "  <tbody>\n",
              "    <tr>\n",
              "      <th>0</th>\n",
              "      <td>0.00632</td>\n",
              "      <td>18.0</td>\n",
              "      <td>2.31</td>\n",
              "      <td>0.0</td>\n",
              "      <td>0.538</td>\n",
              "      <td>6.575</td>\n",
              "      <td>65.2</td>\n",
              "      <td>4.0900</td>\n",
              "      <td>1.0</td>\n",
              "      <td>296.0</td>\n",
              "      <td>15.3</td>\n",
              "      <td>396.90</td>\n",
              "      <td>4.98</td>\n",
              "      <td>24.0</td>\n",
              "    </tr>\n",
              "    <tr>\n",
              "      <th>1</th>\n",
              "      <td>0.02731</td>\n",
              "      <td>0.0</td>\n",
              "      <td>7.07</td>\n",
              "      <td>0.0</td>\n",
              "      <td>0.469</td>\n",
              "      <td>6.421</td>\n",
              "      <td>78.9</td>\n",
              "      <td>4.9671</td>\n",
              "      <td>2.0</td>\n",
              "      <td>242.0</td>\n",
              "      <td>17.8</td>\n",
              "      <td>396.90</td>\n",
              "      <td>9.14</td>\n",
              "      <td>21.6</td>\n",
              "    </tr>\n",
              "    <tr>\n",
              "      <th>2</th>\n",
              "      <td>0.02729</td>\n",
              "      <td>0.0</td>\n",
              "      <td>7.07</td>\n",
              "      <td>0.0</td>\n",
              "      <td>0.469</td>\n",
              "      <td>7.185</td>\n",
              "      <td>61.1</td>\n",
              "      <td>4.9671</td>\n",
              "      <td>2.0</td>\n",
              "      <td>242.0</td>\n",
              "      <td>17.8</td>\n",
              "      <td>392.83</td>\n",
              "      <td>4.03</td>\n",
              "      <td>34.7</td>\n",
              "    </tr>\n",
              "    <tr>\n",
              "      <th>3</th>\n",
              "      <td>0.03237</td>\n",
              "      <td>0.0</td>\n",
              "      <td>2.18</td>\n",
              "      <td>0.0</td>\n",
              "      <td>0.458</td>\n",
              "      <td>6.998</td>\n",
              "      <td>45.8</td>\n",
              "      <td>6.0622</td>\n",
              "      <td>3.0</td>\n",
              "      <td>222.0</td>\n",
              "      <td>18.7</td>\n",
              "      <td>394.63</td>\n",
              "      <td>2.94</td>\n",
              "      <td>33.4</td>\n",
              "    </tr>\n",
              "    <tr>\n",
              "      <th>4</th>\n",
              "      <td>0.06905</td>\n",
              "      <td>0.0</td>\n",
              "      <td>2.18</td>\n",
              "      <td>0.0</td>\n",
              "      <td>0.458</td>\n",
              "      <td>7.147</td>\n",
              "      <td>54.2</td>\n",
              "      <td>6.0622</td>\n",
              "      <td>3.0</td>\n",
              "      <td>222.0</td>\n",
              "      <td>18.7</td>\n",
              "      <td>396.90</td>\n",
              "      <td>5.33</td>\n",
              "      <td>36.2</td>\n",
              "    </tr>\n",
              "  </tbody>\n",
              "</table>\n",
              "</div>\n",
              "    <div class=\"colab-df-buttons\">\n",
              "\n",
              "  <div class=\"colab-df-container\">\n",
              "    <button class=\"colab-df-convert\" onclick=\"convertToInteractive('df-e575831a-b105-45ca-9749-4f86701202cc')\"\n",
              "            title=\"Convert this dataframe to an interactive table.\"\n",
              "            style=\"display:none;\">\n",
              "\n",
              "  <svg xmlns=\"http://www.w3.org/2000/svg\" height=\"24px\" viewBox=\"0 -960 960 960\">\n",
              "    <path d=\"M120-120v-720h720v720H120Zm60-500h600v-160H180v160Zm220 220h160v-160H400v160Zm0 220h160v-160H400v160ZM180-400h160v-160H180v160Zm440 0h160v-160H620v160ZM180-180h160v-160H180v160Zm440 0h160v-160H620v160Z\"/>\n",
              "  </svg>\n",
              "    </button>\n",
              "\n",
              "  <style>\n",
              "    .colab-df-container {\n",
              "      display:flex;\n",
              "      gap: 12px;\n",
              "    }\n",
              "\n",
              "    .colab-df-convert {\n",
              "      background-color: #E8F0FE;\n",
              "      border: none;\n",
              "      border-radius: 50%;\n",
              "      cursor: pointer;\n",
              "      display: none;\n",
              "      fill: #1967D2;\n",
              "      height: 32px;\n",
              "      padding: 0 0 0 0;\n",
              "      width: 32px;\n",
              "    }\n",
              "\n",
              "    .colab-df-convert:hover {\n",
              "      background-color: #E2EBFA;\n",
              "      box-shadow: 0px 1px 2px rgba(60, 64, 67, 0.3), 0px 1px 3px 1px rgba(60, 64, 67, 0.15);\n",
              "      fill: #174EA6;\n",
              "    }\n",
              "\n",
              "    .colab-df-buttons div {\n",
              "      margin-bottom: 4px;\n",
              "    }\n",
              "\n",
              "    [theme=dark] .colab-df-convert {\n",
              "      background-color: #3B4455;\n",
              "      fill: #D2E3FC;\n",
              "    }\n",
              "\n",
              "    [theme=dark] .colab-df-convert:hover {\n",
              "      background-color: #434B5C;\n",
              "      box-shadow: 0px 1px 3px 1px rgba(0, 0, 0, 0.15);\n",
              "      filter: drop-shadow(0px 1px 2px rgba(0, 0, 0, 0.3));\n",
              "      fill: #FFFFFF;\n",
              "    }\n",
              "  </style>\n",
              "\n",
              "    <script>\n",
              "      const buttonEl =\n",
              "        document.querySelector('#df-e575831a-b105-45ca-9749-4f86701202cc button.colab-df-convert');\n",
              "      buttonEl.style.display =\n",
              "        google.colab.kernel.accessAllowed ? 'block' : 'none';\n",
              "\n",
              "      async function convertToInteractive(key) {\n",
              "        const element = document.querySelector('#df-e575831a-b105-45ca-9749-4f86701202cc');\n",
              "        const dataTable =\n",
              "          await google.colab.kernel.invokeFunction('convertToInteractive',\n",
              "                                                    [key], {});\n",
              "        if (!dataTable) return;\n",
              "\n",
              "        const docLinkHtml = 'Like what you see? Visit the ' +\n",
              "          '<a target=\"_blank\" href=https://colab.research.google.com/notebooks/data_table.ipynb>data table notebook</a>'\n",
              "          + ' to learn more about interactive tables.';\n",
              "        element.innerHTML = '';\n",
              "        dataTable['output_type'] = 'display_data';\n",
              "        await google.colab.output.renderOutput(dataTable, element);\n",
              "        const docLink = document.createElement('div');\n",
              "        docLink.innerHTML = docLinkHtml;\n",
              "        element.appendChild(docLink);\n",
              "      }\n",
              "    </script>\n",
              "  </div>\n",
              "\n",
              "\n",
              "    <div id=\"df-63f7fc88-3772-4264-8e77-d6da7e611db1\">\n",
              "      <button class=\"colab-df-quickchart\" onclick=\"quickchart('df-63f7fc88-3772-4264-8e77-d6da7e611db1')\"\n",
              "                title=\"Suggest charts\"\n",
              "                style=\"display:none;\">\n",
              "\n",
              "<svg xmlns=\"http://www.w3.org/2000/svg\" height=\"24px\"viewBox=\"0 0 24 24\"\n",
              "     width=\"24px\">\n",
              "    <g>\n",
              "        <path d=\"M19 3H5c-1.1 0-2 .9-2 2v14c0 1.1.9 2 2 2h14c1.1 0 2-.9 2-2V5c0-1.1-.9-2-2-2zM9 17H7v-7h2v7zm4 0h-2V7h2v10zm4 0h-2v-4h2v4z\"/>\n",
              "    </g>\n",
              "</svg>\n",
              "      </button>\n",
              "\n",
              "<style>\n",
              "  .colab-df-quickchart {\n",
              "      --bg-color: #E8F0FE;\n",
              "      --fill-color: #1967D2;\n",
              "      --hover-bg-color: #E2EBFA;\n",
              "      --hover-fill-color: #174EA6;\n",
              "      --disabled-fill-color: #AAA;\n",
              "      --disabled-bg-color: #DDD;\n",
              "  }\n",
              "\n",
              "  [theme=dark] .colab-df-quickchart {\n",
              "      --bg-color: #3B4455;\n",
              "      --fill-color: #D2E3FC;\n",
              "      --hover-bg-color: #434B5C;\n",
              "      --hover-fill-color: #FFFFFF;\n",
              "      --disabled-bg-color: #3B4455;\n",
              "      --disabled-fill-color: #666;\n",
              "  }\n",
              "\n",
              "  .colab-df-quickchart {\n",
              "    background-color: var(--bg-color);\n",
              "    border: none;\n",
              "    border-radius: 50%;\n",
              "    cursor: pointer;\n",
              "    display: none;\n",
              "    fill: var(--fill-color);\n",
              "    height: 32px;\n",
              "    padding: 0;\n",
              "    width: 32px;\n",
              "  }\n",
              "\n",
              "  .colab-df-quickchart:hover {\n",
              "    background-color: var(--hover-bg-color);\n",
              "    box-shadow: 0 1px 2px rgba(60, 64, 67, 0.3), 0 1px 3px 1px rgba(60, 64, 67, 0.15);\n",
              "    fill: var(--button-hover-fill-color);\n",
              "  }\n",
              "\n",
              "  .colab-df-quickchart-complete:disabled,\n",
              "  .colab-df-quickchart-complete:disabled:hover {\n",
              "    background-color: var(--disabled-bg-color);\n",
              "    fill: var(--disabled-fill-color);\n",
              "    box-shadow: none;\n",
              "  }\n",
              "\n",
              "  .colab-df-spinner {\n",
              "    border: 2px solid var(--fill-color);\n",
              "    border-color: transparent;\n",
              "    border-bottom-color: var(--fill-color);\n",
              "    animation:\n",
              "      spin 1s steps(1) infinite;\n",
              "  }\n",
              "\n",
              "  @keyframes spin {\n",
              "    0% {\n",
              "      border-color: transparent;\n",
              "      border-bottom-color: var(--fill-color);\n",
              "      border-left-color: var(--fill-color);\n",
              "    }\n",
              "    20% {\n",
              "      border-color: transparent;\n",
              "      border-left-color: var(--fill-color);\n",
              "      border-top-color: var(--fill-color);\n",
              "    }\n",
              "    30% {\n",
              "      border-color: transparent;\n",
              "      border-left-color: var(--fill-color);\n",
              "      border-top-color: var(--fill-color);\n",
              "      border-right-color: var(--fill-color);\n",
              "    }\n",
              "    40% {\n",
              "      border-color: transparent;\n",
              "      border-right-color: var(--fill-color);\n",
              "      border-top-color: var(--fill-color);\n",
              "    }\n",
              "    60% {\n",
              "      border-color: transparent;\n",
              "      border-right-color: var(--fill-color);\n",
              "    }\n",
              "    80% {\n",
              "      border-color: transparent;\n",
              "      border-right-color: var(--fill-color);\n",
              "      border-bottom-color: var(--fill-color);\n",
              "    }\n",
              "    90% {\n",
              "      border-color: transparent;\n",
              "      border-bottom-color: var(--fill-color);\n",
              "    }\n",
              "  }\n",
              "</style>\n",
              "\n",
              "      <script>\n",
              "        async function quickchart(key) {\n",
              "          const quickchartButtonEl =\n",
              "            document.querySelector('#' + key + ' button');\n",
              "          quickchartButtonEl.disabled = true;  // To prevent multiple clicks.\n",
              "          quickchartButtonEl.classList.add('colab-df-spinner');\n",
              "          try {\n",
              "            const charts = await google.colab.kernel.invokeFunction(\n",
              "                'suggestCharts', [key], {});\n",
              "          } catch (error) {\n",
              "            console.error('Error during call to suggestCharts:', error);\n",
              "          }\n",
              "          quickchartButtonEl.classList.remove('colab-df-spinner');\n",
              "          quickchartButtonEl.classList.add('colab-df-quickchart-complete');\n",
              "        }\n",
              "        (() => {\n",
              "          let quickchartButtonEl =\n",
              "            document.querySelector('#df-63f7fc88-3772-4264-8e77-d6da7e611db1 button');\n",
              "          quickchartButtonEl.style.display =\n",
              "            google.colab.kernel.accessAllowed ? 'block' : 'none';\n",
              "        })();\n",
              "      </script>\n",
              "    </div>\n",
              "\n",
              "    </div>\n",
              "  </div>\n"
            ],
            "application/vnd.google.colaboratory.intrinsic+json": {
              "type": "dataframe",
              "variable_name": "boston_df",
              "summary": "{\n  \"name\": \"boston_df\",\n  \"rows\": 506,\n  \"fields\": [\n    {\n      \"column\": \"CRIM\",\n      \"properties\": {\n        \"dtype\": \"number\",\n        \"std\": 8.601545105332487,\n        \"min\": 0.00632,\n        \"max\": 88.9762,\n        \"num_unique_values\": 504,\n        \"samples\": [\n          0.09178,\n          0.05644,\n          0.10574\n        ],\n        \"semantic_type\": \"\",\n        \"description\": \"\"\n      }\n    },\n    {\n      \"column\": \"ZN\",\n      \"properties\": {\n        \"dtype\": \"number\",\n        \"std\": 23.322452994515036,\n        \"min\": 0.0,\n        \"max\": 100.0,\n        \"num_unique_values\": 26,\n        \"samples\": [\n          25.0,\n          30.0,\n          18.0\n        ],\n        \"semantic_type\": \"\",\n        \"description\": \"\"\n      }\n    },\n    {\n      \"column\": \"INDUS\",\n      \"properties\": {\n        \"dtype\": \"number\",\n        \"std\": 6.8603529408975845,\n        \"min\": 0.46,\n        \"max\": 27.74,\n        \"num_unique_values\": 76,\n        \"samples\": [\n          8.14,\n          1.47,\n          1.22\n        ],\n        \"semantic_type\": \"\",\n        \"description\": \"\"\n      }\n    },\n    {\n      \"column\": \"CHAS\",\n      \"properties\": {\n        \"dtype\": \"number\",\n        \"std\": 0.2539940413404118,\n        \"min\": 0.0,\n        \"max\": 1.0,\n        \"num_unique_values\": 2,\n        \"samples\": [\n          1.0,\n          0.0\n        ],\n        \"semantic_type\": \"\",\n        \"description\": \"\"\n      }\n    },\n    {\n      \"column\": \"NOX\",\n      \"properties\": {\n        \"dtype\": \"number\",\n        \"std\": 0.11587767566755611,\n        \"min\": 0.385,\n        \"max\": 0.871,\n        \"num_unique_values\": 81,\n        \"samples\": [\n          0.401,\n          0.538\n        ],\n        \"semantic_type\": \"\",\n        \"description\": \"\"\n      }\n    },\n    {\n      \"column\": \"RM\",\n      \"properties\": {\n        \"dtype\": \"number\",\n        \"std\": 0.7026171434153237,\n        \"min\": 3.561,\n        \"max\": 8.78,\n        \"num_unique_values\": 446,\n        \"samples\": [\n          6.849,\n          4.88\n        ],\n        \"semantic_type\": \"\",\n        \"description\": \"\"\n      }\n    },\n    {\n      \"column\": \"AGE\",\n      \"properties\": {\n        \"dtype\": \"number\",\n        \"std\": 28.148861406903638,\n        \"min\": 2.9,\n        \"max\": 100.0,\n        \"num_unique_values\": 356,\n        \"samples\": [\n          51.8,\n          33.8\n        ],\n        \"semantic_type\": \"\",\n        \"description\": \"\"\n      }\n    },\n    {\n      \"column\": \"DIS\",\n      \"properties\": {\n        \"dtype\": \"number\",\n        \"std\": 2.1057101266276104,\n        \"min\": 1.1296,\n        \"max\": 12.1265,\n        \"num_unique_values\": 412,\n        \"samples\": [\n          2.2955,\n          4.2515\n        ],\n        \"semantic_type\": \"\",\n        \"description\": \"\"\n      }\n    },\n    {\n      \"column\": \"RAD\",\n      \"properties\": {\n        \"dtype\": \"number\",\n        \"std\": 8.707259384239377,\n        \"min\": 1.0,\n        \"max\": 24.0,\n        \"num_unique_values\": 9,\n        \"samples\": [\n          7.0,\n          2.0\n        ],\n        \"semantic_type\": \"\",\n        \"description\": \"\"\n      }\n    },\n    {\n      \"column\": \"TAX\",\n      \"properties\": {\n        \"dtype\": \"number\",\n        \"std\": 168.53711605495926,\n        \"min\": 187.0,\n        \"max\": 711.0,\n        \"num_unique_values\": 66,\n        \"samples\": [\n          370.0,\n          666.0\n        ],\n        \"semantic_type\": \"\",\n        \"description\": \"\"\n      }\n    },\n    {\n      \"column\": \"PTRATIO\",\n      \"properties\": {\n        \"dtype\": \"number\",\n        \"std\": 2.164945523714446,\n        \"min\": 12.6,\n        \"max\": 22.0,\n        \"num_unique_values\": 46,\n        \"samples\": [\n          19.6,\n          15.6\n        ],\n        \"semantic_type\": \"\",\n        \"description\": \"\"\n      }\n    },\n    {\n      \"column\": \"B\",\n      \"properties\": {\n        \"dtype\": \"number\",\n        \"std\": 91.29486438415779,\n        \"min\": 0.32,\n        \"max\": 396.9,\n        \"num_unique_values\": 357,\n        \"samples\": [\n          396.24,\n          395.11\n        ],\n        \"semantic_type\": \"\",\n        \"description\": \"\"\n      }\n    },\n    {\n      \"column\": \"LSTAT\",\n      \"properties\": {\n        \"dtype\": \"number\",\n        \"std\": 7.141061511348571,\n        \"min\": 1.73,\n        \"max\": 37.97,\n        \"num_unique_values\": 455,\n        \"samples\": [\n          6.15,\n          4.32\n        ],\n        \"semantic_type\": \"\",\n        \"description\": \"\"\n      }\n    },\n    {\n      \"column\": \"MEDV\",\n      \"properties\": {\n        \"dtype\": \"number\",\n        \"std\": 9.19710408737982,\n        \"min\": 5.0,\n        \"max\": 50.0,\n        \"num_unique_values\": 229,\n        \"samples\": [\n          14.1,\n          22.5\n        ],\n        \"semantic_type\": \"\",\n        \"description\": \"\"\n      }\n    }\n  ]\n}"
            }
          },
          "metadata": {},
          "execution_count": 4
        }
      ]
    },
    {
      "cell_type": "markdown",
      "source": [
        "##🔄 Paso 2: Crear DataFrame con Variable Problemática"
      ],
      "metadata": {
        "id": "jatindBGBxjn"
      }
    },
    {
      "cell_type": "code",
      "source": [
        "feature_names = ['CRIM', 'ZN', 'INDUS', 'CHAS', 'NOX', 'RM', 'AGE',\n",
        "                'DIS', 'RAD', 'TAX', 'PTRATIO', 'B', 'LSTAT']\n",
        "\n",
        "# boston_df = pd.DataFrame(data, columns=feature_names) # This line is not needed as boston_df is already created\n",
        "# boston_df['MEDV'] = target # This line is not needed as boston_df is already created\n",
        "\n",
        "# Decodificar variable B problemática\n",
        "# B = 1000(Bk - 0.63)² → Bk = sqrt(B/1000) + 0.63\n",
        "boston_df['Bk_racial'] = np.sqrt(boston_df['B'] / 1000) + 0.63\n",
        "\n",
        "print(f\"🚨 Variable B (racial): correlación = {boston_df['B'].corr(boston_df['Bk_racial']):.3f}\")\n",
        "print(f\"📊 Proporción racial media: {boston_df['Bk_racial'].mean():.3f}\")"
      ],
      "metadata": {
        "colab": {
          "base_uri": "https://localhost:8080/"
        },
        "id": "_V4w2lXdC6Nt",
        "outputId": "10b0e5f1-2b82-46da-e812-4b2417ead1ec"
      },
      "execution_count": 9,
      "outputs": [
        {
          "output_type": "stream",
          "name": "stdout",
          "text": [
            "🚨 Variable B (racial): correlación = 0.987\n",
            "📊 Proporción racial media: 1.216\n"
          ]
        }
      ]
    },
    {
      "cell_type": "markdown",
      "source": [
        "##🔄 Paso 3: Modelo Baseline Boston (Con Sesgo)"
      ],
      "metadata": {
        "id": "SdX2vdjoDW7f"
      }
    },
    {
      "cell_type": "code",
      "source": [
        "# Preparar features con y sin variable racial\n",
        "X_with_bias = boston_df.drop(['MEDV', 'Bk_racial'], axis=1)\n",
        "X_without_bias = X_with_bias.drop(['B'], axis=1)\n",
        "y_boston = boston_df['MEDV']\n",
        "\n",
        "# Train modelo con sesgo\n",
        "X_train, X_test, y_train, y_test = train_test_split(\n",
        "    X_with_bias, y_boston, test_size=0.3, random_state=42\n",
        ")\n",
        "\n",
        "boston_biased_model = LinearRegression()\n",
        "boston_biased_model.fit(X_train, y_train)      # 👈 Entrena el modelo\n",
        "boston_biased_pred = boston_biased_model.predict(X_test)  # 👈 Predice sobre test set\n",
        "\n",
        "boston_biased_r2 = r2_score(y_test, boston_biased_pred)\n",
        "print(f\"🔴 Boston CON sesgo: R² = {boston_biased_r2:.4f}\")"
      ],
      "metadata": {
        "colab": {
          "base_uri": "https://localhost:8080/"
        },
        "id": "vwffeSJoDdMB",
        "outputId": "26e06097-2969-4133-ce5f-cd148187cc44"
      },
      "execution_count": 10,
      "outputs": [
        {
          "output_type": "stream",
          "name": "stdout",
          "text": [
            "🔴 Boston CON sesgo: R² = 0.7112\n"
          ]
        }
      ]
    },
    {
      "cell_type": "markdown",
      "source": [
        "##🔄 Paso 4: ANÁLISIS PROFUNDO de Sesgo - Detección Sin Corrección"
      ],
      "metadata": {
        "id": "LSGhYCaNDrAw"
      }
    },
    {
      "cell_type": "code",
      "source": [
        "# PASO 4A: Crear grupos por proporción racial\n",
        "racial_threshold = boston_df['Bk_racial'].median()  # mediana\n",
        "boston_df['grupo_racial'] = (boston_df['Bk_racial'] > racial_threshold).map({\n",
        "    True: 'Alta_prop_afroam',\n",
        "    False: 'Baja_prop_afroam'\n",
        "})\n",
        "\n",
        "print(f\"👥 GRUPOS POR PROPORCIÓN RACIAL:\")\n",
        "print(boston_df['grupo_racial'].value_counts())\n",
        "\n",
        "# PASO 4B: Análisis de distribución de precios por grupo\n",
        "print(f\"\\n💰 DISTRIBUCIÓN DE PRECIOS POR GRUPO RACIAL:\")\n",
        "price_by_group = boston_df.groupby('grupo_racial')['MEDV'].agg(['mean', 'median', 'std', 'count'])\n",
        "print(price_by_group)\n",
        "\n",
        "# PASO 4C: Calcular brecha de precios\n",
        "price_gap = price_by_group.loc['Baja_prop_afroam', 'mean'] - price_by_group.loc['Alta_prop_afroam', 'mean']\n",
        "price_gap_pct = (price_gap / price_by_group.loc['Alta_prop_afroam', 'mean']) * 100\n",
        "\n",
        "print(f\"\\n🚨 BRECHA DE PRECIOS POR SESGO RACIAL:\")\n",
        "print(f\"Diferencia promedio: ${price_gap:.2f}k ({price_gap_pct:.1f}%)\")\n",
        "print(f\"Baja prop. afroam: ${price_by_group.loc['Baja_prop_afroam', 'mean']:.2f}k\")\n",
        "print(f\"Alta prop. afroam: ${price_by_group.loc['Alta_prop_afroam', 'mean']:.2f}k\")\n",
        "\n",
        "# PASO 4D: Visualizar el sesgo\n",
        "import matplotlib.pyplot as plt\n",
        "\n",
        "fig, axes = plt.subplots(1, 2, figsize=(12, 5))\n",
        "\n",
        "# Histograma de precios por grupo\n",
        "for group in boston_df['grupo_racial'].unique():\n",
        "    data = boston_df[boston_df['grupo_racial'] == group]['MEDV']\n",
        "    axes[0].hist(data, alpha=0.7, label=group, bins=20)\n",
        "axes[0].set_xlabel('Precio (miles $)')\n",
        "axes[0].set_ylabel('Frecuencia')\n",
        "axes[0].set_title('Distribución de Precios por Grupo Racial')\n",
        "axes[0].legend()\n",
        "\n",
        "# Boxplot comparativo\n",
        "boston_df.boxplot(column='MEDV', by='grupo_racial', ax=axes[1])\n",
        "axes[1].set_title('Precios por Grupo Racial')\n",
        "axes[1].set_xlabel('Grupo Racial')\n",
        "axes[1].set_ylabel('Precio (miles $)')\n",
        "\n",
        "plt.tight_layout()\n",
        "plt.show()\n",
        "\n",
        "print(f\"📊 VISUALIZACIÓN: ¿Se observa sesgo sistemático en las distribuciones?\")"
      ],
      "metadata": {
        "colab": {
          "base_uri": "https://localhost:8080/",
          "height": 717
        },
        "id": "JFl2kLWfDv9T",
        "outputId": "3e1460e6-925c-49a5-9f0e-6b26d0c25adb"
      },
      "execution_count": 11,
      "outputs": [
        {
          "output_type": "stream",
          "name": "stdout",
          "text": [
            "👥 GRUPOS POR PROPORCIÓN RACIAL:\n",
            "grupo_racial\n",
            "Alta_prop_afroam    253\n",
            "Baja_prop_afroam    253\n",
            "Name: count, dtype: int64\n",
            "\n",
            "💰 DISTRIBUCIÓN DE PRECIOS POR GRUPO RACIAL:\n",
            "                       mean  median        std  count\n",
            "grupo_racial                                         \n",
            "Alta_prop_afroam  22.810672    22.0   7.994651    253\n",
            "Baja_prop_afroam  22.254941    20.4  10.268380    253\n",
            "\n",
            "🚨 BRECHA DE PRECIOS POR SESGO RACIAL:\n",
            "Diferencia promedio: $-0.56k (-2.4%)\n",
            "Baja prop. afroam: $22.25k\n",
            "Alta prop. afroam: $22.81k\n"
          ]
        },
        {
          "output_type": "display_data",
          "data": {
            "text/plain": [
              "<Figure size 1200x500 with 2 Axes>"
            ],
            "image/png": "[encoded data removed]"
          },
          "metadata": {}
        },
        {
          "output_type": "stream",
          "name": "stdout",
          "text": [
            "📊 VISUALIZACIÓN: ¿Se observa sesgo sistemático en las distribuciones?\n"
          ]
        }
      ]
    },
    {
      "cell_type": "markdown",
      "source": [
        "##🔄 Paso 5: REFLEXIÓN ÉTICA sobre Variable Problemática"
      ],
      "metadata": {
        "id": "3lnFB2wWD4Ck"
      }
    },
    {
      "cell_type": "code",
      "source": [
        "# PASO 5A: Reflexión guiada sobre el uso ético de variable B\n",
        "print(\"⚖️ REFLEXIÓN ÉTICA SOBRE VARIABLE B\")\n",
        "print(\"=\"*50)\n",
        "\n",
        "print(f\"\\n🤔 PREGUNTAS PARA REFLEXIONAR:\")\n",
        "\n",
        "print(f\"\\n1. CONTEXTO HISTÓRICO:\")\n",
        "print(f\"   - La variable B fue diseñada en 1978\")\n",
        "print(f\"   - Codifica proporción de población afroamericana\")\n",
        "print(f\"   - Correlación con precios: {boston_df['B'].corr(boston_df['MEDV']):.3f}\")\n",
        "print(f\"   ❓ ¿Es ético usar esta variable en 2025?\")\n",
        "\n",
        "print(f\"\\n2. DILEMA DE UTILIDAD:\")\n",
        "print(f\"   - La variable B es predictiva (mejora el modelo)\")\n",
        "print(f\"   - Pero perpetúa sesgos raciales históricos\")\n",
        "print(f\"   ❓ ¿Cuándo la utilidad justifica el sesgo?\")\n",
        "\n",
        "print(f\"\\n3. RESPONSABILIDAD PROFESIONAL:\")\n",
        "print(f\"   - Sklearn removió este dataset por razones éticas\")\n",
        "print(f\"   - Nosotros lo usamos para APRENDER sobre sesgo\")\n",
        "print(f\"   ❓ ¿Cuál es nuestra responsabilidad como data scientists?\")\n",
        "\n",
        "print(f\"\\n4. ALTERNATIVAS ÉTICAS:\")\n",
        "print(f\"   - Podemos eliminar la variable B\")\n",
        "print(f\"   - Podemos documentar sus limitaciones\")\n",
        "print(f\"   - Podemos buscar proxies menos problemáticos\")\n",
        "print(f\"   ❓ ¿Qué harías en un contexto real?\")\n",
        "\n",
        "# PASO 5B: Análisis de correlaciones alternativas\n",
        "print(f\"\\n📊 ANÁLISIS DE VARIABLES ALTERNATIVAS:\")\n",
        "print(f\"Variables que podrían ser menos problemáticas:\")\n",
        "\n",
        "alternative_vars = ['LSTAT', 'RM', 'CRIM', 'TAX', 'PTRATIO']\n",
        "for var in alternative_vars:\n",
        "    corr = boston_df[var].corr(boston_df['MEDV'])\n",
        "    print(f\"  {var}: correlación = {corr:.3f}\")\n",
        "\n",
        "print(f\"\\n💡 OBSERVACIÓN:\")\n",
        "print(f\"Algunas variables tienen correlaciones altas sin sesgo racial explícito\")\n",
        "\n",
        "# PASO 5C: Marco de decisión ética\n",
        "print(f\"\\n🎯 MARCO DE DECISIÓN PARA VARIABLE PROBLEMÁTICA:\")\n",
        "print(f\"=\"*50)\n",
        "\n",
        "print(f\"\\n✅ USAR variable B SI:\")\n",
        "print(f\"  - Contexto es puramente académico/educativo\")\n",
        "print(f\"  - Se documenta explícitamente su naturaleza problemática\")\n",
        "print(f\"  - El objetivo es estudiar/detectar sesgo histórico\")\n",
        "\n",
        "print(f\"\\n❌ NO USAR variable B SI:\")\n",
        "print(f\"  - El modelo se usará en producción\")\n",
        "print(f\"  - Afectará decisiones sobre personas reales\")\n",
        "print(f\"  - Existe riesgo de perpetuar discriminación\")\n",
        "\n",
        "print(f\"\\n⚖️ TU DECISIÓN ÉTICA:\")\n",
        "print(f\"Basado en el análisis, ¿usarías la variable B en tu modelo?\")\n",
        "print(f\"¿Por qué? ¿Qué consideraciones éticas son más importantes?\")\n",
        "\n",
        "# PASO 5D: Documentar la decisión\n",
        "boston_ethical_decision = \"USAR SOLO PARA EDUCACIÓN - NO PARA PRODUCCIÓN\"\n",
        "print(f\"\\n📋 DECISIÓN DOCUMENTADA: {boston_ethical_decision}\")\n",
        "print(f\"📝 Justificación: Variable históricamente sesgada, útil para detectar sesgo pero inapropiada para modelos de producción\")"
      ],
      "metadata": {
        "colab": {
          "base_uri": "https://localhost:8080/"
        },
        "id": "IN-eBdduD-1x",
        "outputId": "a27e6fa3-da6b-47b4-d17f-d6904da225e0"
      },
      "execution_count": 12,
      "outputs": [
        {
          "output_type": "stream",
          "name": "stdout",
          "text": [
            "⚖️ REFLEXIÓN ÉTICA SOBRE VARIABLE B\n",
            "==================================================\n",
            "\n",
            "🤔 PREGUNTAS PARA REFLEXIONAR:\n",
            "\n",
            "1. CONTEXTO HISTÓRICO:\n",
            "   - La variable B fue diseñada en 1978\n",
            "   - Codifica proporción de población afroamericana\n",
            "   - Correlación con precios: 0.333\n",
            "   ❓ ¿Es ético usar esta variable en 2025?\n",
            "\n",
            "2. DILEMA DE UTILIDAD:\n",
            "   - La variable B es predictiva (mejora el modelo)\n",
            "   - Pero perpetúa sesgos raciales históricos\n",
            "   ❓ ¿Cuándo la utilidad justifica el sesgo?\n",
            "\n",
            "3. RESPONSABILIDAD PROFESIONAL:\n",
            "   - Sklearn removió este dataset por razones éticas\n",
            "   - Nosotros lo usamos para APRENDER sobre sesgo\n",
            "   ❓ ¿Cuál es nuestra responsabilidad como data scientists?\n",
            "\n",
            "4. ALTERNATIVAS ÉTICAS:\n",
            "   - Podemos eliminar la variable B\n",
            "   - Podemos documentar sus limitaciones\n",
            "   - Podemos buscar proxies menos problemáticos\n",
            "   ❓ ¿Qué harías en un contexto real?\n",
            "\n",
            "📊 ANÁLISIS DE VARIABLES ALTERNATIVAS:\n",
            "Variables que podrían ser menos problemáticas:\n",
            "  LSTAT: correlación = -0.738\n",
            "  RM: correlación = 0.695\n",
            "  CRIM: correlación = -0.388\n",
            "  TAX: correlación = -0.469\n",
            "  PTRATIO: correlación = -0.508\n",
            "\n",
            "💡 OBSERVACIÓN:\n",
            "Algunas variables tienen correlaciones altas sin sesgo racial explícito\n",
            "\n",
            "🎯 MARCO DE DECISIÓN PARA VARIABLE PROBLEMÁTICA:\n",
            "==================================================\n",
            "\n",
            "✅ USAR variable B SI:\n",
            "  - Contexto es puramente académico/educativo\n",
            "  - Se documenta explícitamente su naturaleza problemática\n",
            "  - El objetivo es estudiar/detectar sesgo histórico\n",
            "\n",
            "❌ NO USAR variable B SI:\n",
            "  - El modelo se usará en producción\n",
            "  - Afectará decisiones sobre personas reales\n",
            "  - Existe riesgo de perpetuar discriminación\n",
            "\n",
            "⚖️ TU DECISIÓN ÉTICA:\n",
            "Basado en el análisis, ¿usarías la variable B en tu modelo?\n",
            "¿Por qué? ¿Qué consideraciones éticas son más importantes?\n",
            "\n",
            "📋 DECISIÓN DOCUMENTADA: USAR SOLO PARA EDUCACIÓN - NO PARA PRODUCCIÓN\n",
            "📝 Justificación: Variable históricamente sesgada, útil para detectar sesgo pero inapropiada para modelos de producción\n"
          ]
        }
      ]
    },
    {
      "cell_type": "markdown",
      "source": [
        "##🚢 PARTE II - TITANIC: SESGO GÉNERO + CLASE"
      ],
      "metadata": {
        "id": "6aXnbedgELab"
      }
    },
    {
      "cell_type": "markdown",
      "source": [
        "##🔄 Paso 6: Cargar y Analizar Titanic"
      ],
      "metadata": {
        "id": "b0NolxatENjK"
      }
    },
    {
      "cell_type": "code",
      "source": [
        "# PASO 1: Cargar Titanic\n",
        "try:\n",
        "    titanic = sns.load_dataset(\"titanic\")  # ✅ carga el dataset incluido en seaborn\n",
        "except:\n",
        "    titanic = pd.read_csv(\"https://raw.githubusercontent.com/datasciencedojo/datasets/master/titanic.csv\")\n",
        "\n",
        "# PASO 2: Limpieza rápida\n",
        "titanic_clean = titanic.dropna(subset=['age', 'embarked'])  # ✅ elimina filas con nulos en esas columnas\n",
        "\n",
        "# PASO 3: Análisis rápido de sesgo\n",
        "gender_survival = titanic_clean.groupby('sex')['survived'].mean()  # ✅ promedio de supervivencia por sexo\n",
        "class_survival = titanic_clean.groupby('pclass')['survived'].mean()\n",
        "\n",
        "print(f\"🚨 TITANIC BIAS ANALYSIS:\")\n",
        "print(f\"Gender gap: {gender_survival['female'] - gender_survival['male']:.1%}\")\n",
        "print(f\"Class gap: {class_survival[1] - class_survival[3]:.1%}\")\n",
        "print(\"✅ Ambos tipos de sesgo significativos!\")"
      ],
      "metadata": {
        "colab": {
          "base_uri": "https://localhost:8080/"
        },
        "id": "fikyWuO5ESLJ",
        "outputId": "ecde061e-bb51-4e4d-bb63-b1a8c725f347"
      },
      "execution_count": 13,
      "outputs": [
        {
          "output_type": "stream",
          "name": "stdout",
          "text": [
            "🚨 TITANIC BIAS ANALYSIS:\n",
            "Gender gap: 54.8%\n",
            "Class gap: 41.3%\n",
            "✅ Ambos tipos de sesgo significativos!\n"
          ]
        }
      ]
    },
    {
      "cell_type": "markdown",
      "source": [
        "##🔄 Paso 7: Baseline Model Titanic (Con Sesgo)"
      ],
      "metadata": {
        "id": "z2fxt2EnEet9"
      }
    },
    {
      "cell_type": "code",
      "source": [
        "# Preparar datos Titanic\n",
        "features_titanic = ['pclass', 'age', 'sibsp', 'parch', 'fare']\n",
        "X_titanic = titanic_clean[features_titanic].copy()\n",
        "X_titanic['fare'].fillna(X_titanic['fare'].median(), inplace=True)  # ✅ rellenar nulos con la mediana\n",
        "y_titanic = titanic_clean['survived']\n",
        "sensitive_titanic = titanic_clean['sex']\n",
        "\n",
        "# Train baseline\n",
        "X_train_t, X_test_t, y_train_t, y_test_t, A_train_t, A_test_t = train_test_split(\n",
        "    X_titanic, y_titanic, sensitive_titanic, test_size=0.3, random_state=42, stratify=y_titanic\n",
        ")\n",
        "\n",
        "titanic_baseline = RandomForestClassifier(n_estimators=100, random_state=42)\n",
        "titanic_baseline.fit(X_train_t, y_train_t)\n",
        "titanic_baseline_pred = titanic_baseline.predict(X_test_t)\n",
        "\n",
        "titanic_baseline_acc = accuracy_score(y_test_t, titanic_baseline_pred)\n",
        "titanic_baseline_dp = demographic_parity_difference(\n",
        "    y_test_t, titanic_baseline_pred, sensitive_features=A_test_t\n",
        ")\n",
        "\n",
        "print(f\"🔴 Titanic BASELINE: Accuracy = {titanic_baseline_acc:.3f}\")\n",
        "print(f\"🚨 Demographic Parity Diff: {titanic_baseline_dp:.3f}\")"
      ],
      "metadata": {
        "colab": {
          "base_uri": "https://localhost:8080/"
        },
        "id": "jYvj9TmREfyR",
        "outputId": "ae3fb1ed-ae90-4108-bdc2-a83ae50a8e1d"
      },
      "execution_count": 14,
      "outputs": [
        {
          "output_type": "stream",
          "name": "stdout",
          "text": [
            "🔴 Titanic BASELINE: Accuracy = 0.673\n",
            "🚨 Demographic Parity Diff: 0.113\n"
          ]
        }
      ]
    },
    {
      "cell_type": "markdown",
      "source": [
        "##🔄 Paso 8: FAIRLEARN en Titanic - Constraint Género"
      ],
      "metadata": {
        "id": "dyCid7I7EwSw"
      }
    },
    {
      "cell_type": "code",
      "source": [
        "# Aplicar ExponentiatedGradient a Titanic\n",
        "titanic_fair = ExponentiatedGradient(\n",
        "    RandomForestClassifier(n_estimators=100, random_state=42),\n",
        "    constraints=DemographicParity()\n",
        ")\n",
        "\n",
        "print(\"🔧 Aplicando Fairlearn a Titanic...\")\n",
        "titanic_fair.fit(X_train_t, y_train_t, sensitive_features=A_train_t)  # ✅ entrenar con atributo sensible\n",
        "titanic_fair_pred = titanic_fair.predict(X_test_t)                   # ✅ generar predicciones\n",
        "\n",
        "titanic_fair_acc = accuracy_score(y_test_t, titanic_fair_pred)\n",
        "titanic_fair_dp = demographic_parity_difference(\n",
        "    y_test_t, titanic_fair_pred, sensitive_features=A_test_t\n",
        ")\n",
        "\n",
        "print(f\"🟢 Titanic FAIR: Accuracy = {titanic_fair_acc:.3f}\")\n",
        "print(f\"⚖️ Demographic Parity Diff: {titanic_fair_dp:.3f}\")"
      ],
      "metadata": {
        "colab": {
          "base_uri": "https://localhost:8080/"
        },
        "id": "Uz6H5WBJE0oE",
        "outputId": "6a5fb35b-86c2-4bee-ea1a-bd41b3774c72"
      },
      "execution_count": 15,
      "outputs": [
        {
          "output_type": "stream",
          "name": "stdout",
          "text": [
            "🔧 Aplicando Fairlearn a Titanic...\n",
            "🟢 Titanic FAIR: Accuracy = 0.631\n",
            "⚖️ Demographic Parity Diff: 0.062\n"
          ]
        }
      ]
    },
    {
      "cell_type": "markdown",
      "source": [
        "##🔄 Paso 9: Trade-off Analysis Titanic"
      ],
      "metadata": {
        "id": "s_ivXzrKE9Eo"
      }
    },
    {
      "cell_type": "code",
      "source": [
        "titanic_performance_loss = (titanic_baseline_acc - titanic_fair_acc) / titanic_baseline_acc * 100\n",
        "titanic_fairness_gain = abs(titanic_baseline_dp) - abs(titanic_fair_dp)\n",
        "\n",
        "print(f\"📊 TITANIC TRADE-OFF:\")\n",
        "print(f\"Performance loss: {titanic_performance_loss:.1f}%\")\n",
        "print(f\"Fairness gain: {titanic_fairness_gain:.3f}\")\n",
        "\n",
        "if titanic_performance_loss < 5 and titanic_fairness_gain > 0.1:\n",
        "    titanic_recommendation = \"✅ Usar modelo FAIR - excelente trade-off\"\n",
        "else:\n",
        "    titanic_recommendation = \"⚠️ Evaluar caso por caso\"\n",
        "\n",
        "print(f\"📋 Recomendación Titanic: {titanic_recommendation}\")"
      ],
      "metadata": {
        "colab": {
          "base_uri": "https://localhost:8080/"
        },
        "id": "x_jAJ_wzFEQ1",
        "outputId": "a5ecfd81-0a5c-481d-eed1-2acee36eefa4"
      },
      "execution_count": 16,
      "outputs": [
        {
          "output_type": "stream",
          "name": "stdout",
          "text": [
            "📊 TITANIC TRADE-OFF:\n",
            "Performance loss: 6.2%\n",
            "Fairness gain: 0.051\n",
            "📋 Recomendación Titanic: ⚠️ Evaluar caso por caso\n"
          ]
        }
      ]
    },
    {
      "cell_type": "markdown",
      "source": [
        "##Visualizaciones"
      ],
      "metadata": {
        "id": "BPDpYUYOFUlU"
      }
    },
    {
      "cell_type": "code",
      "source": [
        "# Visualización del trade-off entre precisión y equidad\n",
        "import matplotlib.pyplot as plt\n",
        "\n",
        "fig, ax = plt.subplots(figsize=(6,4))\n",
        "ax.bar(['Baseline', 'Fairlearn'],\n",
        "       [titanic_baseline_acc*100, titanic_fair_acc*100],\n",
        "       color=['#e74c3c','#27ae60'], alpha=0.7, label='Accuracy (%)')\n",
        "\n",
        "ax2 = ax.twinx()\n",
        "ax2.plot(['Baseline','Fairlearn'],\n",
        "         [abs(titanic_baseline_dp), abs(titanic_fair_dp)],\n",
        "         color='#3498db', marker='o', label='Demographic Parity Diff')\n",
        "\n",
        "ax.set_ylabel('Accuracy (%)')\n",
        "ax2.set_ylabel('|DP Difference|')\n",
        "ax.set_title('🎯 Trade-off Rendimiento vs Equidad – Titanic')\n",
        "ax.legend(loc='upper left')\n",
        "ax2.legend(loc='upper right')\n",
        "plt.tight_layout()\n",
        "plt.show()"
      ],
      "metadata": {
        "colab": {
          "base_uri": "https://localhost:8080/",
          "height": 407
        },
        "id": "4rYmvInuFW2g",
        "outputId": "7bb00361-0035-4846-a3b1-0c8f26607668"
      },
      "execution_count": 17,
      "outputs": [
        {
          "output_type": "display_data",
          "data": {
            "text/plain": [
              "<Figure size 600x400 with 2 Axes>"
            ],
            "image/png": "[encoded data removed]"
          },
          "metadata": {}
        }
      ]
    },
    {
      "cell_type": "code",
      "source": [
        "import seaborn as sns\n",
        "\n",
        "pred_df = pd.DataFrame({\n",
        "    'Genero': A_test_t,\n",
        "    'Prediccion_Baseline': titanic_baseline_pred,\n",
        "    'Prediccion_Fair': titanic_fair_pred\n",
        "})\n",
        "\n",
        "fig, axes = plt.subplots(1, 2, figsize=(10,4))\n",
        "sns.barplot(data=pred_df, x='Genero', y='Prediccion_Baseline', ax=axes[0])\n",
        "axes[0].set_title('Baseline – Tasa predicha de supervivencia por género')\n",
        "sns.barplot(data=pred_df, x='Genero', y='Prediccion_Fair', ax=axes[1])\n",
        "axes[1].set_title('Fairlearn – Tasa predicha de supervivencia por género')\n",
        "plt.tight_layout()\n",
        "plt.show()"
      ],
      "metadata": {
        "colab": {
          "base_uri": "https://localhost:8080/",
          "height": 390
        },
        "id": "p_Py6skwFdCh",
        "outputId": "3b42c553-af3c-4031-9aa8-b97446374b7e"
      },
      "execution_count": 18,
      "outputs": [
        {
          "output_type": "display_data",
          "data": {
            "text/plain": [
              "<Figure size 1000x400 with 2 Axes>"
            ],
            "image/png": "[encoded data removed]"
          },
          "metadata": {}
        }
      ]
    },
    {
      "cell_type": "code",
      "source": [
        "fig, ax = plt.subplots(figsize=(6,4))\n",
        "ax.bar(['Baseline','Fairlearn'],\n",
        "       [abs(titanic_baseline_dp), abs(titanic_fair_dp)],\n",
        "       color=['#c0392b','#16a085'], alpha=0.7)\n",
        "ax.set_ylabel('|Demographic Parity Difference|')\n",
        "ax.set_title('⚖️ Disparidad entre géneros – Antes vs Después Fairlearn')\n",
        "plt.tight_layout()\n",
        "plt.show()"
      ],
      "metadata": {
        "colab": {
          "base_uri": "https://localhost:8080/",
          "height": 407
        },
        "id": "K7f54ZpRFgOc",
        "outputId": "9e7f3f3e-bc21-48a7-b5f8-1e8bd8530639"
      },
      "execution_count": 19,
      "outputs": [
        {
          "output_type": "display_data",
          "data": {
            "text/plain": [
              "<Figure size 600x400 with 1 Axes>"
            ],
            "image/png": "[encoded data removed]"
          },
          "metadata": {}
        }
      ]
    }
  ]
}